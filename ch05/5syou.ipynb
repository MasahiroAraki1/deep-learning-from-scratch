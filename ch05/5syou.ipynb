{
 "cells": [
  {
   "cell_type": "markdown",
   "metadata": {},
   "source": [
    "5章\n",
    "5.4　単純なレイヤの実装"
   ]
  },
  {
   "cell_type": "markdown",
   "metadata": {},
   "source": [
    "「リンゴの買い物」ーリンゴ2個と消費税ー"
   ]
  },
  {
   "cell_type": "code",
   "execution_count": 10,
   "metadata": {},
   "outputs": [
    {
     "name": "stdout",
     "output_type": "stream",
     "text": [
      "price: 220\n",
      "dApple: 2.2\n",
      "dApple_num: 110\n",
      "dTax: 200\n"
     ]
    }
   ],
   "source": [
    "from layer_naive import *\n",
    "\n",
    "apple = 100 #リンゴ1個の値段\n",
    "apple_num = 2 #個数\n",
    "tax = 1.1 #消費税\n",
    "\n",
    "mul_apple_layer = MulLayer() #リンゴ\n",
    "mul_tax_layer = MulLayer() #消費税\n",
    "\n",
    "# forward（順伝播）\n",
    "apple_price = mul_apple_layer.forward(apple, apple_num)\n",
    "price = mul_tax_layer.forward(apple_price, tax)\n",
    "\n",
    "# backward（逆伝播）\n",
    "dprice = 1 #上流からの入力\n",
    "dapple_price, dtax = mul_tax_layer.backward(dprice)\n",
    "dapple, dapple_num = mul_apple_layer.backward(dapple_price)\n",
    "\n",
    "print(\"price:\", int(price)) #220　リンゴの値段合計\n",
    "print(\"dApple:\", dapple) #2.2　リンゴの値段の微分値\n",
    "print(\"dApple_num:\", int(dapple_num)) #110　リンゴ個数の微分値\n",
    "print(\"dTax:\", dtax) #200　消費税の微分値"
   ]
  },
  {
   "cell_type": "markdown",
   "metadata": {},
   "source": [
    "「リンゴ2個とみかん3個の買い物」"
   ]
  },
  {
   "cell_type": "code",
   "execution_count": 11,
   "metadata": {},
   "outputs": [
    {
     "name": "stdout",
     "output_type": "stream",
     "text": [
      "price: 715\n",
      "dApple: 2.2\n",
      "dApple_num: 110\n",
      "dOrange: 3.3000000000000003\n",
      "dOrange_num: 165\n",
      "dTax: 650\n"
     ]
    }
   ],
   "source": [
    "from layer_naive import *\n",
    "\n",
    "apple = 100 #リンゴ1個の値段\n",
    "apple_num = 2 #個数\n",
    "orange = 150 #みかん1個の値段\n",
    "orange_num = 3 #個数\n",
    "tax = 1.1 #消費税\n",
    "\n",
    "# layer\n",
    "mul_apple_layer = MulLayer()\n",
    "mul_orange_layer = MulLayer()\n",
    "add_apple_orange_layer = AddLayer()\n",
    "mul_tax_layer = MulLayer()\n",
    "\n",
    "# forward\n",
    "apple_price = mul_apple_layer.forward(apple, apple_num)  # (1)\n",
    "orange_price = mul_orange_layer.forward(orange, orange_num)  # (2)\n",
    "all_price = add_apple_orange_layer.forward(apple_price, orange_price)  # (3)\n",
    "price = mul_tax_layer.forward(all_price, tax)  # (4)\n",
    "\n",
    "# backward\n",
    "dprice = 1 #上流からの入力値\n",
    "dall_price, dtax = mul_tax_layer.backward(dprice)  # (4)\n",
    "dapple_price, dorange_price = add_apple_orange_layer.backward(dall_price)  # (3)\n",
    "dorange, dorange_num = mul_orange_layer.backward(dorange_price)  # (2)\n",
    "dapple, dapple_num = mul_apple_layer.backward(dapple_price)  # (1)\n",
    "\n",
    "print(\"price:\", int(price)) #715 値段合計\n",
    "print(\"dApple:\", dapple) #2.2　リンゴの値段の微分値\n",
    "print(\"dApple_num:\", int(dapple_num)) #110　リンゴ個数の微分値\n",
    "print(\"dOrange:\", dorange) #3.3　みかんの値段の微分値\n",
    "print(\"dOrange_num:\", int(dorange_num)) #165　みかんの個数の微分値\n",
    "print(\"dTax:\", dtax) #650　消費税の微分値"
   ]
  }
 ],
 "metadata": {
  "kernelspec": {
   "display_name": "Python 3.8.10 ('venv': venv)",
   "language": "python",
   "name": "python3"
  },
  "language_info": {
   "name": "python",
   "version": "3.8.10"
  },
  "orig_nbformat": 4,
  "vscode": {
   "interpreter": {
    "hash": "3824d07008deb6e0e45085d8859431397408ea1dda36e5bac4510c6bd62c9ab1"
   }
  }
 },
 "nbformat": 4,
 "nbformat_minor": 2
}
